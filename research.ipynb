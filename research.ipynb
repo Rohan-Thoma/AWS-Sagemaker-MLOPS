{
 "cells": [
  {
   "cell_type": "markdown",
   "id": "73f3ff7f",
   "metadata": {},
   "source": [
    "#### What We will Learn\n",
    "\n",
    "1. S3 Buckets- Boto3\n",
    "2. Iam Roles and Users\n",
    "3. Complete Infrastructure of AWS Sagemaker-Training, Endpoints"
   ]
  },
  {
   "cell_type": "code",
   "execution_count": 2,
   "id": "afdd94ae",
   "metadata": {},
   "outputs": [
    {
     "name": "stdout",
     "output_type": "stream",
     "text": [
      "sagemaker.config INFO - Not applying SDK defaults from location: /etc/xdg/xdg-pop/sagemaker/config.yaml\n",
      "sagemaker.config INFO - Not applying SDK defaults from location: /home/ml01/.config/sagemaker/config.yaml\n"
     ]
    }
   ],
   "source": [
    "import sagemaker \n",
    "from sklearn.model_selection import train_test_split\n",
    "import boto3"
   ]
  }
 ],
 "metadata": {
  "kernelspec": {
   "display_name": "aws_sagemake_mlops",
   "language": "python",
   "name": "python3"
  },
  "language_info": {
   "codemirror_mode": {
    "name": "ipython",
    "version": 3
   },
   "file_extension": ".py",
   "mimetype": "text/x-python",
   "name": "python",
   "nbconvert_exporter": "python",
   "pygments_lexer": "ipython3",
   "version": "3.10.12"
  }
 },
 "nbformat": 4,
 "nbformat_minor": 5
}
